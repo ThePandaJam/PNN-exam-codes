{
 "cells": [
  {
   "cell_type": "markdown",
   "metadata": {
    "heading_collapsed": true
   },
   "source": [
    "## Libraries and Util"
   ]
  },
  {
   "cell_type": "code",
   "execution_count": null,
   "metadata": {
    "hidden": true
   },
   "outputs": [],
   "source": [
    "import itertools\n",
    "import json\n",
    "import numpy as np\n",
    "import matplotlib.pyplot as plt\n",
    "from sklearn.metrics import confusion_matrix, classification_report, precision_score, recall_score\n",
    "\n",
    "\n",
    "def transformToList(inputString):\n",
    "    s = inputString.translate(str.maketrans({'{': '[', '}': ']', '(': '[', ')': ']'}))\n",
    "    s = s.replace('[', ' [ ')\n",
    "    s = s.replace(']', ' ] ')\n",
    "    s = s.replace(',', ' , ')\n",
    "    words = s.split()\n",
    "    output = \"\"\n",
    "    for word in words:\n",
    "        if word==\"[\" or word==\"]\" or word==\",\": output+=word\n",
    "        else: output+='\"'+word+'\"'\n",
    "    out = json.loads(output)\n",
    "    try:\n",
    "        a = np.array(out).astype(np.float).tolist()\n",
    "    except:\n",
    "        a = out\n",
    "    return a"
   ]
  },
  {
   "cell_type": "code",
   "execution_count": null,
   "metadata": {
    "hidden": true
   },
   "outputs": [],
   "source": []
  },
  {
   "cell_type": "markdown",
   "metadata": {},
   "source": [
    "## Week 1"
   ]
  },
  {
   "cell_type": "markdown",
   "metadata": {},
   "source": [
    "### Confusion Matrix and Metrics"
   ]
  },
  {
   "cell_type": "markdown",
   "metadata": {
    "heading_collapsed": true
   },
   "source": [
    "#### Code"
   ]
  },
  {
   "cell_type": "code",
   "execution_count": null,
   "metadata": {
    "hidden": true
   },
   "outputs": [],
   "source": [
    "class week1:\n",
    "    def basic_metrics(y_true, y_pred, class_names, normalize=False):\n",
    "        cm = confusion_matrix(y_true, y_pred)\n",
    "        cm = cm[:,::-1][::-1]\n",
    "        np.set_printoptions(precision=4)\n",
    "\n",
    "        title='Confusion matrix'\n",
    "        cmap=plt.cm.Blues\n",
    "        plt.imshow(cm, interpolation='nearest', cmap=cmap)\n",
    "        plt.title(title)\n",
    "        plt.colorbar()\n",
    "        tick_marks = np.arange(len(class_names))\n",
    "        plt.xticks(tick_marks, class_names, rotation=45)\n",
    "        plt.yticks(tick_marks, class_names)\n",
    "\n",
    "        if normalize:\n",
    "            cm = cm.astype('float') / cm.sum(axis=1)[:, np.newaxis]\n",
    "\n",
    "        thresh = cm.max() / 2.\n",
    "        for i, j in itertools.product(range(cm.shape[0]), range(cm.shape[1])):\n",
    "            plt.text(j, i, cm[i, j],\n",
    "                     horizontalalignment=\"center\",\n",
    "                     color=\"white\" if cm[i, j] > thresh else \"black\")\n",
    "\n",
    "        plt.tight_layout()\n",
    "        plt.ylabel('True label')\n",
    "        plt.xlabel('Predicted label')\n",
    "\n",
    "        print(classification_report(y_true, y_pred, target_names=class_names[::-1],digits=4))\n",
    "        plt.show()\n",
    "        \n",
    "    def setParams():\n",
    "        class_names = transformToList(input(\"Enter names of classes in descending order eg [Two, One, Zero]:  \"))\n",
    "        y_true = transformToList(input(\"Enter true value of labels eg [1,1,0,1,0,1,1,2] 1D:  \"))\n",
    "        y_pred = transformToList(input(\"Enter predicted value of labels eg [1,0,1,1,0,1,0,2] 1D:  \"))\n",
    "        return class_names, y_true, y_pred"
   ]
  },
  {
   "cell_type": "markdown",
   "metadata": {
    "heading_collapsed": true
   },
   "source": [
    "#### Run"
   ]
  },
  {
   "cell_type": "code",
   "execution_count": null,
   "metadata": {
    "hidden": true
   },
   "outputs": [],
   "source": [
    "class_names, y_true, y_pred = week1.setParams()\n",
    "week1.basic_metrics(y_true, y_pred, class_names)"
   ]
  },
  {
   "cell_type": "markdown",
   "metadata": {},
   "source": [
    "## Week 2"
   ]
  },
  {
   "cell_type": "markdown",
   "metadata": {},
   "source": [
    "### Batch Perceptron Learning"
   ]
  },
  {
   "cell_type": "markdown",
   "metadata": {
    "heading_collapsed": true
   },
   "source": [
    "#### Code"
   ]
  },
  {
   "cell_type": "code",
   "execution_count": null,
   "metadata": {
    "hidden": true
   },
   "outputs": [],
   "source": [
    "class batchPerceptronLearning:\n",
    "    def fit(X, Y, a, n):\n",
    "        # ------------------------------------------------------------------------------------\n",
    "        # Applying Sample Normalisation:\n",
    "        Norm_Y = []\n",
    "\n",
    "        for x, y in zip(X, Y):\n",
    "\n",
    "            # If the sample belongs to the class with label 2 or -1 (Check dataset in question to see how formatted):\n",
    "            if y != 1:\n",
    "                x = [i * -1 for i in x]\n",
    "                x.insert(0, -1)\n",
    "                Norm_Y.append(x)\n",
    "            else:\n",
    "                x.insert(0, 1)\n",
    "                Norm_Y.append(x)\n",
    "\n",
    "        print(\"Vectors used in Batch Perceptron Learning Algorithm:\\n {}\\n\".format(Norm_Y))\n",
    "\n",
    "        # ------------------------------------------------------------------------------------\n",
    "        # Batch Perceptron Learning Algorithm:\n",
    "\n",
    "        epoch = 1\n",
    "\n",
    "        while True:\n",
    "\n",
    "            updating_samples = []\n",
    "            print(\"Epoch {}\".format(epoch))\n",
    "\n",
    "            for count, i in enumerate(range(len(Norm_Y))):\n",
    "\n",
    "                # Knowing which value of a to use. If it is the first iteration, than use the given parameters in the \n",
    "                # question:\n",
    "                a_prev = a\n",
    "                print(\"The value of a used is {}\".format(a_prev))\n",
    "                y_input = Norm_Y[i]\n",
    "                print(\"y Value used for this iteration is: {}\".format(y_input))\n",
    "\n",
    "                # Equation -> g(x) = a^{t}y\n",
    "                ay = np.dot(a, y_input)\n",
    "                print(\"The value of a^t*y for this iteration is: {}\".format(ay))\n",
    "\n",
    "\n",
    "                # Checking if the sample is misclassified or not:\n",
    "\n",
    "                # If sample is misclassified:\n",
    "                if ay <= 0:\n",
    "\n",
    "                    # If this is the first sample in the epoch, add the previous value of a to the list of samples used \n",
    "                    # for the update to perform summation at the end of the epoch:\n",
    "                    if count == 0:\n",
    "                        print(\"This sample is misclassified. This sample will be used in update.\\n\")\n",
    "                        updating_samples.append(np.array(a))\n",
    "                        updating_samples.append(np.array(y_input))\n",
    "\n",
    "                    # If sample is misclassified and IS NOT the first sample in the epoch:\n",
    "                    else:\n",
    "                        print(\"This sample is misclassified. This sample will be used in update.\\n\")\n",
    "                        updating_samples.append(np.array(y_input))\n",
    "\n",
    "                # If sample is classified correctly:\n",
    "                else: \n",
    "\n",
    "                    # If first sample in the epoch, append the previous value of a to the updating samples list:\n",
    "                    if count == 0:\n",
    "                        updating_samples.append(np.array(a))\n",
    "                        print(\"This sample is classified correctly.\\n\")\n",
    "                    else:\n",
    "                        print(\"This sample is classified correctly.\\n\")\n",
    "\n",
    "            # Calculating new value of a after having gone through all of the samples in the dataset since it is Batch Learning.\n",
    "            a_update_val = n * sum(updating_samples)\n",
    "\n",
    "            # If Block to check whether learning has converged. If we have gone through all the data without needing \n",
    "            # to update the parameters, we can conclude that learning has converged.\n",
    "            if len(updating_samples) <= 1:\n",
    "                print(\"\\nLearning has converged.\")\n",
    "                print(\"Required parameters of a are: {}\".format(a))\n",
    "                break\n",
    "\n",
    "            # Updating a using our new value of a:\n",
    "            a = a_update_val\n",
    "            print(\"\\nNew Value of a^t is: {}.\\n\".format(a))\n",
    "\n",
    "            epoch += 1\n",
    "        \n",
    "    def setParams():\n",
    "        X_train = transformToList(input(\"Enter features eg [[1, 5], [2, 5], [4, 1], [5, 1]] 2D:  \"))\n",
    "        y_train = transformToList(input(\"Enter labels eg [1, 1, 2, 2] 1D:  \"))\n",
    "        a = transformToList(input(\"Enter a. Usually [1, w1, w2...] eg [-25, 6, 3] 1D:  \"))\n",
    "        lr = float(input(\"Enter the learning rate eg 1.  \"))\n",
    "        return X_train, y_train, a, lr"
   ]
  },
  {
   "cell_type": "markdown",
   "metadata": {
    "heading_collapsed": true
   },
   "source": [
    "#### Run"
   ]
  },
  {
   "cell_type": "code",
   "execution_count": null,
   "metadata": {
    "hidden": true
   },
   "outputs": [],
   "source": [
    "X_train, y_train, a, lr = batchPerceptronLearning.setParams()\n",
    "batchPerceptronLearning.fit(X_train, y_train, a, lr)"
   ]
  },
  {
   "cell_type": "markdown",
   "metadata": {},
   "source": [
    "### Sequential Perceptron Learing"
   ]
  },
  {
   "cell_type": "markdown",
   "metadata": {
    "heading_collapsed": true
   },
   "source": [
    "#### Code"
   ]
  },
  {
   "cell_type": "code",
   "execution_count": null,
   "metadata": {
    "hidden": true
   },
   "outputs": [],
   "source": [
    "class sequentialPerceptronLearning:\n",
    "    def fit(X, Y, a, n):\n",
    "        # ------------------------------------------------------------------------------------\n",
    "        # Applying Sample Normalisation:\n",
    "        Norm_Y = []\n",
    "\n",
    "        for x, y in zip(X, Y):\n",
    "\n",
    "            # If the sample belongs to the class with label 2 or -1 (Check dataset in question to see how formatted):\n",
    "            if y != 1:\n",
    "                x = [i * -1 for i in x]\n",
    "                x.insert(0, -1)\n",
    "                Norm_Y.append(x)\n",
    "            else:\n",
    "                x.insert(0, 1)\n",
    "                Norm_Y.append(x)\n",
    "\n",
    "        print(\"Vectors used in Sequential Perceptron Learning Algorithm:\\n {}\\n\".format(Norm_Y))\n",
    "\n",
    "\n",
    "        # ------------------------------------------------------------------------------------\n",
    "        # Sequential Perceptron Learning Algorithm:\n",
    "\n",
    "        epoch = 1\n",
    "\n",
    "        while True:\n",
    "\n",
    "            updating_samples = []\n",
    "            print(\"Epoch {}\".format(epoch))\n",
    "\n",
    "            # Keeping track of how many samples are correctly classified. If this variable reaches \n",
    "            # the value that is equal to the size of the dataset (len), than we know that learning \n",
    "            # has converged:\n",
    "            correctly_classified_counter = 0\n",
    "\n",
    "            # Going through all of the samples in the dataset one-by-one:\n",
    "            for i in range(len(Norm_Y)):\n",
    "\n",
    "                # This chooses which weight to use for an iteration. If first iteration, uses given starting weight \n",
    "                # as described in question:\n",
    "                a_prev = a\n",
    "                print(\"The value of a used is {}\".format(a_prev))\n",
    "\n",
    "                # Selecting sample to use:\n",
    "                y_input = Norm_Y[i]\n",
    "                print(\"y Value used for this iteration is: {}\".format(y_input))\n",
    "\n",
    "                # Equation -> g(x) = a^{t}y\n",
    "                ay = np.dot(a, y_input)\n",
    "                print(\"The value of a^t*y for this iteration is: {}\".format(ay))\n",
    "\n",
    "\n",
    "                # Checking if the sample is misclassified or not:\n",
    "\n",
    "                # If sample is misclassified:\n",
    "                if ay <= 0:\n",
    "\n",
    "                    print(\"This sample is misclassified. This sample will be used in update.\\n\")\n",
    "                    updating_samples.append(np.array(a))\n",
    "                    updating_samples.append(np.array(y_input))\n",
    "\n",
    "                    # Calculating new value of a using update rule for Sequential Perceptron Learning Algorithm:\n",
    "                    a_update_val = n * sum(updating_samples)\n",
    "\n",
    "                    a = a_update_val\n",
    "                    print(\"\\nNew Value of a^t is: {}.\\n\".format(a))\n",
    "\n",
    "                # If the sample is correctly classified:\n",
    "                else: \n",
    "                    print(\"This sample is classified correctly.\\n\")\n",
    "                    correctly_classified_counter += 1\n",
    "                    pass\n",
    "\n",
    "                # Reset sample to add for update to occur:\n",
    "                updating_samples = []\n",
    "\n",
    "            # If Block to check whether learning has converged. If we have gone through all the data without needing \n",
    "            # to update the parameters, we can conclude that learning has converged.\n",
    "            if correctly_classified_counter == len(Norm_Y):\n",
    "                print(\"\\nLearning has converged.\")\n",
    "                print(\"Required parameters of a are: {}.\".format(a))\n",
    "                break\n",
    "\n",
    "            epoch += 1\n",
    "        \n",
    "    def setParams():\n",
    "        X_train = transformToList(input(\"Enter features eg [[0, 2], [1, 2], [2, 1], [-3, 1], [-2, -1], [-3, -2]] 2D:  \"))\n",
    "        y_train = transformToList(input(\"Enter labels eg [1, 1, 1, -1, -1, -1] 1D:  \"))\n",
    "        a = transformToList(input(\"Enter a. Usually [1, w1, w2...] eg [1, 0, 0] 1D:  \"))\n",
    "        lr = float(input(\"Enter the learning rate eg 1.  \"))\n",
    "        return X_train, y_train, a, lr"
   ]
  },
  {
   "cell_type": "markdown",
   "metadata": {
    "heading_collapsed": true
   },
   "source": [
    "#### Run"
   ]
  },
  {
   "cell_type": "code",
   "execution_count": null,
   "metadata": {
    "hidden": true,
    "scrolled": false
   },
   "outputs": [],
   "source": [
    "X_train, y_train, a, lr = sequentialPerceptronLearning.setParams()\n",
    "sequentialPerceptronLearning.fit(X_train, y_train, a, lr)"
   ]
  },
  {
   "cell_type": "code",
   "execution_count": null,
   "metadata": {
    "hidden": true
   },
   "outputs": [],
   "source": []
  }
 ],
 "metadata": {
  "kernelspec": {
   "display_name": "Python 3",
   "language": "python",
   "name": "python3"
  },
  "language_info": {
   "codemirror_mode": {
    "name": "ipython",
    "version": 3
   },
   "file_extension": ".py",
   "mimetype": "text/x-python",
   "name": "python",
   "nbconvert_exporter": "python",
   "pygments_lexer": "ipython3",
   "version": "3.8.5"
  }
 },
 "nbformat": 4,
 "nbformat_minor": 4
}
