{
 "cells": [
  {
   "cell_type": "markdown",
   "metadata": {
    "heading_collapsed": true
   },
   "source": [
    "## Libraries and Util"
   ]
  },
  {
   "cell_type": "code",
   "execution_count": 1,
   "metadata": {
    "hidden": true
   },
   "outputs": [],
   "source": [
    "import itertools\n",
    "import json\n",
    "import math\n",
    "import numpy as np\n",
    "import matplotlib.pyplot as plt\n",
    "from sklearn.metrics import confusion_matrix, classification_report, precision_score, recall_score\n",
    "\n",
    "\n",
    "def transformToList(inputString):\n",
    "    s = inputString.translate(str.maketrans({'{': '[', '}': ']', '(': '[', ')': ']'}))\n",
    "    s = s.replace('[', ' [ ')\n",
    "    s = s.replace(']', ' ] ')\n",
    "    s = s.replace(',', ' , ')\n",
    "    words = s.split()\n",
    "    output = \"\"\n",
    "    for word in words:\n",
    "        if word==\"[\" or word==\"]\" or word==\",\": output+=word\n",
    "        else: output+='\"'+word+'\"'\n",
    "    out = json.loads(output)\n",
    "    try:\n",
    "        a = np.array(out).astype(np.float).tolist()\n",
    "    except:\n",
    "        a = out\n",
    "    return a\n",
    "\n",
    "class Activation:\n",
    "    def stepFunction(u):\n",
    "        if u>0: return 1\n",
    "        elif u<0: return 0\n",
    "        else: return 0.5\n",
    "\n",
    "\n",
    "class Utility:\n",
    "    def augmentArray(a, value=1, position=0):\n",
    "        return np.insert(a, position, value, axis=len(a.shape)-1)\n",
    "    \n",
    "    def sampleNorm(data, target, mainClass = 1):\n",
    "        if len(data) != len(target):\n",
    "            print(\"incompatible array sizes - sampleNorm\")\n",
    "            return\n",
    "        for i in range(len(target)):\n",
    "            if target[i] != mainClass:\n",
    "                data[i] = [-x for x in data[i]]\n",
    "        return data "
   ]
  },
  {
   "cell_type": "markdown",
   "metadata": {
    "heading_collapsed": true
   },
   "source": [
    "## Week 1"
   ]
  },
  {
   "cell_type": "markdown",
   "metadata": {
    "hidden": true
   },
   "source": [
    "### Confusion Matrix and Metrics"
   ]
  },
  {
   "cell_type": "markdown",
   "metadata": {
    "heading_collapsed": true,
    "hidden": true
   },
   "source": [
    "#### Code"
   ]
  },
  {
   "cell_type": "code",
   "execution_count": null,
   "metadata": {
    "hidden": true
   },
   "outputs": [],
   "source": [
    "class Week1:\n",
    "    def basic_metrics(y_true, y_pred, class_names, normalize=False):\n",
    "        cm = confusion_matrix(y_true, y_pred)\n",
    "        cm = cm[:,::-1][::-1]\n",
    "        np.set_printoptions(precision=4)\n",
    "\n",
    "        title='Confusion matrix'\n",
    "        cmap=plt.cm.Blues\n",
    "        plt.imshow(cm, interpolation='nearest', cmap=cmap)\n",
    "        plt.title(title)\n",
    "        plt.colorbar()\n",
    "        tick_marks = np.arange(len(class_names))\n",
    "        plt.xticks(tick_marks, class_names, rotation=45)\n",
    "        plt.yticks(tick_marks, class_names)\n",
    "\n",
    "        if normalize:\n",
    "            cm = cm.astype('float') / cm.sum(axis=1)[:, np.newaxis]\n",
    "\n",
    "        thresh = cm.max() / 2.\n",
    "        for i, j in itertools.product(range(cm.shape[0]), range(cm.shape[1])):\n",
    "            plt.text(j, i, cm[i, j],\n",
    "                     horizontalalignment=\"center\",\n",
    "                     color=\"white\" if cm[i, j] > thresh else \"black\")\n",
    "\n",
    "        plt.tight_layout()\n",
    "        plt.ylabel('True label')\n",
    "        plt.xlabel('Predicted label')\n",
    "\n",
    "        print(classification_report(y_true, y_pred, target_names=class_names[::-1],digits=4))\n",
    "        plt.show()\n",
    "        \n",
    "    def setParams():\n",
    "        class_names = transformToList(input(\"Enter names of classes in descending order eg [Two, One, Zero]:  \"))\n",
    "        y_true = transformToList(input(\"Enter true value of labels eg [1,1,0,1,0,1,1,2] 1D:  \"))\n",
    "        y_pred = transformToList(input(\"Enter predicted value of labels eg [1,0,1,1,0,1,0,2] 1D:  \"))\n",
    "        return class_names, y_true, y_pred"
   ]
  },
  {
   "cell_type": "markdown",
   "metadata": {
    "heading_collapsed": true,
    "hidden": true
   },
   "source": [
    "#### Run"
   ]
  },
  {
   "cell_type": "code",
   "execution_count": null,
   "metadata": {
    "hidden": true
   },
   "outputs": [],
   "source": [
    "class_names, y_true, y_pred = Week1.setParams()\n",
    "Week1.basic_metrics(y_true, y_pred, class_names)"
   ]
  },
  {
   "cell_type": "markdown",
   "metadata": {
    "heading_collapsed": true
   },
   "source": [
    "## Week 2"
   ]
  },
  {
   "cell_type": "markdown",
   "metadata": {
    "heading_collapsed": true,
    "hidden": true
   },
   "source": [
    "### Batch Perceptron Learning"
   ]
  },
  {
   "cell_type": "markdown",
   "metadata": {
    "heading_collapsed": true,
    "hidden": true
   },
   "source": [
    "#### Code"
   ]
  },
  {
   "cell_type": "code",
   "execution_count": null,
   "metadata": {
    "hidden": true
   },
   "outputs": [],
   "source": [
    "class BatchPerceptronLearning:\n",
    "    def fit(X, Y, a, n):\n",
    "        # ------------------------------------------------------------------------------------\n",
    "        # Applying Sample Normalisation:\n",
    "        Norm_Y = []\n",
    "\n",
    "        for x, y in zip(X, Y):\n",
    "\n",
    "            # If the sample belongs to the class with label 2 or -1 (Check dataset in question to see how formatted):\n",
    "            if y != 1:\n",
    "                x = [i * -1 for i in x]\n",
    "                x.insert(0, -1)\n",
    "                Norm_Y.append(x)\n",
    "            else:\n",
    "                x.insert(0, 1)\n",
    "                Norm_Y.append(x)\n",
    "\n",
    "        print(\"Vectors used in Batch Perceptron Learning Algorithm:\\n {}\\n\".format(Norm_Y))\n",
    "\n",
    "        # ------------------------------------------------------------------------------------\n",
    "        # Batch Perceptron Learning Algorithm:\n",
    "\n",
    "        epoch = 1\n",
    "\n",
    "        while True:\n",
    "\n",
    "            updating_samples = []\n",
    "            print(\"Epoch {}\".format(epoch))\n",
    "\n",
    "            for count, i in enumerate(range(len(Norm_Y))):\n",
    "\n",
    "                # Knowing which value of a to use. If it is the first iteration, than use the given parameters in the \n",
    "                # question:\n",
    "                a_prev = a\n",
    "                print(\"The value of a used is {}\".format(a_prev))\n",
    "                y_input = Norm_Y[i]\n",
    "                print(\"y Value used for this iteration is: {}\".format(y_input))\n",
    "\n",
    "                # Equation -> g(x) = a^{t}y\n",
    "                ay = np.dot(a, y_input)\n",
    "                print(\"The value of a^t*y for this iteration is: {}\".format(ay))\n",
    "\n",
    "\n",
    "                # Checking if the sample is misclassified or not:\n",
    "\n",
    "                # If sample is misclassified:\n",
    "                if ay <= 0:\n",
    "\n",
    "                    # If this is the first sample in the epoch, add the previous value of a to the list of samples used \n",
    "                    # for the update to perform summation at the end of the epoch:\n",
    "                    if count == 0:\n",
    "                        print(\"This sample is misclassified. This sample will be used in update.\\n\")\n",
    "                        updating_samples.append(np.array(a))\n",
    "                        updating_samples.append(np.array(y_input))\n",
    "\n",
    "                    # If sample is misclassified and IS NOT the first sample in the epoch:\n",
    "                    else:\n",
    "                        print(\"This sample is misclassified. This sample will be used in update.\\n\")\n",
    "                        updating_samples.append(np.array(y_input))\n",
    "\n",
    "                # If sample is classified correctly:\n",
    "                else: \n",
    "\n",
    "                    # If first sample in the epoch, append the previous value of a to the updating samples list:\n",
    "                    if count == 0:\n",
    "                        updating_samples.append(np.array(a))\n",
    "                        print(\"This sample is classified correctly.\\n\")\n",
    "                    else:\n",
    "                        print(\"This sample is classified correctly.\\n\")\n",
    "\n",
    "            # Calculating new value of a after having gone through all of the samples in the dataset since it is Batch Learning.\n",
    "            a_update_val = n * sum(updating_samples)\n",
    "\n",
    "            # If Block to check whether learning has converged. If we have gone through all the data without needing \n",
    "            # to update the parameters, we can conclude that learning has converged.\n",
    "            if len(updating_samples) <= 1:\n",
    "                print(\"\\nLearning has converged.\")\n",
    "                print(\"Required parameters of a are: {}\".format(a))\n",
    "                break\n",
    "\n",
    "            # Updating a using our new value of a:\n",
    "            a = a_update_val\n",
    "            print(\"\\nNew Value of a^t is: {}.\\n\".format(a))\n",
    "\n",
    "            epoch += 1\n",
    "        \n",
    "    def setParams():\n",
    "        X_train = transformToList(input(\"Enter features eg [[1, 5], [2, 5], [4, 1], [5, 1]] 2D:  \"))\n",
    "        y_train = transformToList(input(\"Enter labels eg [1, 1, 2, 2] 1D:  \"))\n",
    "        a = transformToList(input(\"Enter a. Usually [1, w1, w2...] eg [-25, 6, 3] 1D:  \"))\n",
    "        lr = float(input(\"Enter the learning rate eg 1.  \"))\n",
    "        print(type(X_train))\n",
    "        return X_train, y_train, a, lr"
   ]
  },
  {
   "cell_type": "markdown",
   "metadata": {
    "heading_collapsed": true,
    "hidden": true
   },
   "source": [
    "#### Run"
   ]
  },
  {
   "cell_type": "code",
   "execution_count": null,
   "metadata": {
    "hidden": true
   },
   "outputs": [],
   "source": [
    "X_train, y_train, a, lr = BatchPerceptronLearning.setParams()\n",
    "BatchPerceptronLearning.fit(X_train, y_train, a, lr)"
   ]
  },
  {
   "cell_type": "markdown",
   "metadata": {
    "heading_collapsed": true,
    "hidden": true
   },
   "source": [
    "### Sequential Perceptron Learing"
   ]
  },
  {
   "cell_type": "markdown",
   "metadata": {
    "heading_collapsed": true,
    "hidden": true
   },
   "source": [
    "#### Code"
   ]
  },
  {
   "cell_type": "code",
   "execution_count": null,
   "metadata": {
    "hidden": true
   },
   "outputs": [],
   "source": [
    "class SequentialPerceptronLearning:\n",
    "    def fit(X, Y, a, n):\n",
    "        # ------------------------------------------------------------------------------------\n",
    "        # Applying Sample Normalisation:\n",
    "        Norm_Y = []\n",
    "\n",
    "        for x, y in zip(X, Y):\n",
    "\n",
    "            # If the sample belongs to the class with label 2 or -1 (Check dataset in question to see how formatted):\n",
    "            if y != 1:\n",
    "                x = [i * -1 for i in x]\n",
    "                x.insert(0, -1)\n",
    "                Norm_Y.append(x)\n",
    "            else:\n",
    "                x.insert(0, 1)\n",
    "                Norm_Y.append(x)\n",
    "\n",
    "        print(\"Vectors used in Sequential Perceptron Learning Algorithm:\\n {}\\n\".format(Norm_Y))\n",
    "\n",
    "\n",
    "        # ------------------------------------------------------------------------------------\n",
    "        # Sequential Perceptron Learning Algorithm:\n",
    "\n",
    "        epoch = 1\n",
    "\n",
    "        while True:\n",
    "\n",
    "            updating_samples = []\n",
    "            print(\"Epoch {}\".format(epoch))\n",
    "\n",
    "            # Keeping track of how many samples are correctly classified. If this variable reaches \n",
    "            # the value that is equal to the size of the dataset (len), than we know that learning \n",
    "            # has converged:\n",
    "            correctly_classified_counter = 0\n",
    "\n",
    "            # Going through all of the samples in the dataset one-by-one:\n",
    "            for i in range(len(Norm_Y)):\n",
    "\n",
    "                # This chooses which weight to use for an iteration. If first iteration, uses given starting weight \n",
    "                # as described in question:\n",
    "                a_prev = a\n",
    "                print(\"The value of a used is {}\".format(a_prev))\n",
    "\n",
    "                # Selecting sample to use:\n",
    "                y_input = Norm_Y[i]\n",
    "                print(\"y Value used for this iteration is: {}\".format(y_input))\n",
    "\n",
    "                # Equation -> g(x) = a^{t}y\n",
    "                ay = np.dot(a, y_input)\n",
    "                print(\"The value of a^t*y for this iteration is: {}\".format(ay))\n",
    "\n",
    "\n",
    "                # Checking if the sample is misclassified or not:\n",
    "\n",
    "                # If sample is misclassified:\n",
    "                if ay <= 0:\n",
    "\n",
    "                    print(\"This sample is misclassified. This sample will be used in update.\\n\")\n",
    "                    updating_samples.append(np.array(a))\n",
    "                    updating_samples.append(np.array(y_input))\n",
    "\n",
    "                    # Calculating new value of a using update rule for Sequential Perceptron Learning Algorithm:\n",
    "                    a_update_val = n * sum(updating_samples)\n",
    "\n",
    "                    a = a_update_val\n",
    "                    print(\"\\nNew Value of a^t is: {}.\\n\".format(a))\n",
    "\n",
    "                # If the sample is correctly classified:\n",
    "                else: \n",
    "                    print(\"This sample is classified correctly.\\n\")\n",
    "                    correctly_classified_counter += 1\n",
    "                    pass\n",
    "\n",
    "                # Reset sample to add for update to occur:\n",
    "                updating_samples = []\n",
    "\n",
    "            # If Block to check whether learning has converged. If we have gone through all the data without needing \n",
    "            # to update the parameters, we can conclude that learning has converged.\n",
    "            if correctly_classified_counter == len(Norm_Y):\n",
    "                print(\"\\nLearning has converged.\")\n",
    "                print(\"Required parameters of a are: {}.\".format(a))\n",
    "                break\n",
    "\n",
    "            epoch += 1\n",
    "        \n",
    "    def setParams():\n",
    "        X_train = transformToList(input(\"Enter features eg [[0, 2], [1, 2], [2, 1], [-3, 1], [-2, -1], [-3, -2]] 2D:  \"))\n",
    "        y_train = transformToList(input(\"Enter labels eg [1, 1, 1, -1, -1, -1] 1D:  \"))\n",
    "        a = transformToList(input(\"Enter a. Usually [1, w1, w2...] eg [1, 0, 0] 1D:  \"))\n",
    "        lr = float(input(\"Enter the learning rate eg 1.  \"))\n",
    "        return X_train, y_train, a, lr"
   ]
  },
  {
   "cell_type": "markdown",
   "metadata": {
    "heading_collapsed": true,
    "hidden": true
   },
   "source": [
    "#### Run"
   ]
  },
  {
   "cell_type": "code",
   "execution_count": null,
   "metadata": {
    "hidden": true,
    "scrolled": false
   },
   "outputs": [],
   "source": [
    "X_train, y_train, a, lr = SequentialPerceptronLearning.setParams()\n",
    "SequentialPerceptronLearning.fit(X_train, y_train, a, lr)"
   ]
  },
  {
   "cell_type": "markdown",
   "metadata": {},
   "source": [
    "### Multi-class Perceptron learning"
   ]
  },
  {
   "cell_type": "markdown",
   "metadata": {},
   "source": [
    "#### Code"
   ]
  },
  {
   "cell_type": "code",
   "execution_count": 3,
   "metadata": {},
   "outputs": [],
   "source": [
    "class SequentialMultiClassPerceptronLearning:\n",
    "    def fit(X,y, a, eta):\n",
    "    # N is the number of exemplars provided in the question\n",
    "    # augmented_matrix is the augmented feature vector from the question\n",
    "    # eta is the learning rate given in the question\n",
    "    # omega is an array containing all the output classes of the feature vectors\n",
    "        augmented_matrix = np.array(X).T\n",
    "    # counter which keeps track of cases where winner_class == omega[index]\n",
    "        N_counter = 0\n",
    "        \n",
    "        omega = np.array(y).astype(int).tolist()\n",
    "        N = augmented_matrix.shape[1]\n",
    "        number_of_classes = len(set(omega))\n",
    "        number_of_features = augmented_matrix.shape[0]\n",
    "        \n",
    "        print(f'class nb:{number_of_classes} and number of features {number_of_features} and number of shit {N}')\n",
    "        # Step 2. Initialise aj for each class\n",
    "        at = np.array(a)\n",
    "        #at = np.zeros((number_of_classes, number_of_features))\n",
    "        \n",
    "        for i in range(0, 15):\n",
    "            print('Iteration: ', i+1)\n",
    "            # Step 3. Find values of g1, g2 and g3 and then select the arg max of g\n",
    "            index = i % N\n",
    "\n",
    "            # Print updated a^t value\n",
    "            print('a^t:')\n",
    "            print(at)\n",
    "\n",
    "            # Compute g value\n",
    "            g = np.empty([number_of_classes])\n",
    "            for i in range(len(g)):\n",
    "                print('Calculation of g values..........')\n",
    "                print('a^t is:', at[i])\n",
    "                print('Index is:', index)\n",
    "                print('Aug matrix is:', augmented_matrix[:, index])\n",
    "                g[i] = at[i] @ augmented_matrix[:, index]\n",
    "\n",
    "            print('g1 | g2 | g3')\n",
    "            print(g)\n",
    "\n",
    "            # Step 4. Select the winner\n",
    "            # Logic for 0,0,0 case and similar ones where 2 gs can produce max value\n",
    "            seen = []\n",
    "            bRepeated = False\n",
    "            # Check if there are multiple max values, and assign the winner class accordingly\n",
    "            for number in g:\n",
    "                if number in seen:\n",
    "                    bRepeated = True\n",
    "                    print(\"Number repeated!\")\n",
    "                    m = max(g)\n",
    "                    temp = [index for index, j in enumerate(g) if j == m]\n",
    "                    winner_class = max(temp) + 1\n",
    "                else:\n",
    "                    seen.append(number)\n",
    "            # If all g values are unique, simply select the max value's class as the winner\n",
    "            if(bRepeated == False):\n",
    "                g = g.tolist()\n",
    "                arg_max = max(g)\n",
    "                winner_class = g.index(arg_max) + 1\n",
    "\n",
    "            print('Winner class = ', winner_class,\n",
    "                  ', and actual class is:', omega[index])\n",
    "\n",
    "            # Compare winnner to actual class\n",
    "            if(winner_class != omega[index]):\n",
    "                # Step 4. Apply the update rule as per the algorithm\n",
    "\n",
    "                # Increment the actual class value which is incorrectly classified\n",
    "                at[omega[index]-1] = at[omega[index]-1] + \\\n",
    "                    eta * augmented_matrix[:, index]\n",
    "                print('New loser value:', at[omega[index]-1])\n",
    "\n",
    "                # Penalize the wrongly predicted Winner class\n",
    "                at[winner_class-1] = at[winner_class-1] - \\\n",
    "                    eta * augmented_matrix[:, index]\n",
    "                print('New winner value:', at[winner_class-1])\n",
    "\n",
    "                # Reset counter to 0\n",
    "                N_counter = 0\n",
    "            else:\n",
    "                print('No update is performed!')\n",
    "                # Increment convergence counter which keeps track of cases where winner_class == omega[index]\n",
    "                N_counter += 1\n",
    "                if(N_counter == N):  # check for convergence\n",
    "                    print('Value of N = ', N)\n",
    "                    print('Value of N_counter = ', N_counter)\n",
    "                    print('Learning has converged, so stopping...')\n",
    "                    print('Final values of a^t after update....')\n",
    "                    print('at')\n",
    "                    print(at)\n",
    "                    break\n",
    "                print('N counter value = ', N_counter)\n",
    "            print('at')\n",
    "            print(at)\n",
    "            print('=========================================================')\n",
    "\n",
    "\n",
    "    def setParams():\n",
    "        X_train = transformToList(input(\"Enter features eg [[1,0, 2], [1, 1, 2], [1, 2, 1], [1, -3, 1], [1, -2, -1], [1, -3, -2]] 2D:  \"))\n",
    "        y_train = transformToList(input(\"Enter labels eg [1, 1, 1, -1, -1, -1] 1D:  \"))\n",
    "        a = transformToList(input(\"Enter a. Usually [1, w1, w2...] eg [1, 0, 0] 1D:  \"))\n",
    "        lr = float(input(\"Enter the learning rate eg 1.  \"))\n",
    "        print(X_train, y_train, a, lr)\n",
    "        return X_train, y_train, a, lr\n"
   ]
  },
  {
   "cell_type": "markdown",
   "metadata": {},
   "source": [
    "#### Run"
   ]
  },
  {
   "cell_type": "code",
   "execution_count": 6,
   "metadata": {},
   "outputs": [
    {
     "name": "stdout",
     "output_type": "stream",
     "text": [
      "Enter features eg [[1,0, 2], [1, 1, 2], [1, 2, 1], [1, -3, 1], [1, -2, -1], [1, -3, -2]] 2D:  [[1,1,1],[1,2,0],[1,0,2],[1,-1,1],[1,-1,-1]]\n"
     ]
    },
    {
     "name": "stderr",
     "output_type": "stream",
     "text": [
      "<ipython-input-1-d1c9629e3f07>:21: DeprecationWarning: `np.float` is a deprecated alias for the builtin `float`. To silence this warning, use `float` by itself. Doing this will not modify any behavior and is safe. If you specifically wanted the numpy scalar type, use `np.float64` here.\n",
      "Deprecated in NumPy 1.20; for more details and guidance: https://numpy.org/devdocs/release/1.20.0-notes.html#deprecations\n",
      "  a = np.array(out).astype(np.float).tolist()\n"
     ]
    },
    {
     "name": "stdout",
     "output_type": "stream",
     "text": [
      "Enter labels eg [1, 1, 1, -1, -1, -1] 1D:  [1,1,2,2,3]\n",
      "Enter a. Usually [1, w1, w2...] eg [1, 0, 0] 1D:  [[0,0,0],[0,0,0],[0,0,0]]\n",
      "Enter the learning rate eg 1.  1\n",
      "[[1.0, 1.0, 1.0], [1.0, 2.0, 0.0], [1.0, 0.0, 2.0], [1.0, -1.0, 1.0], [1.0, -1.0, -1.0]] [1.0, 1.0, 2.0, 2.0, 3.0] [[0.0, 0.0, 0.0], [0.0, 0.0, 0.0], [0.0, 0.0, 0.0]] 1.0\n",
      "class nb:3 and number of features 3 and number of shit 5\n",
      "Iteration:  1\n",
      "a^t:\n",
      "[[0. 0. 0.]\n",
      " [0. 0. 0.]\n",
      " [0. 0. 0.]]\n",
      "Calculation of g values..........\n",
      "a^t is: [0. 0. 0.]\n",
      "Index is: 0\n",
      "Aug matrix is: [1. 1. 1.]\n",
      "Calculation of g values..........\n",
      "a^t is: [0. 0. 0.]\n",
      "Index is: 0\n",
      "Aug matrix is: [1. 1. 1.]\n",
      "Calculation of g values..........\n",
      "a^t is: [0. 0. 0.]\n",
      "Index is: 0\n",
      "Aug matrix is: [1. 1. 1.]\n",
      "g1 | g2 | g3\n",
      "[0. 0. 0.]\n",
      "Number repeated!\n",
      "Number repeated!\n",
      "Winner class =  3 , and actual class is: 1\n",
      "New loser value: [1. 1. 1.]\n",
      "New winner value: [-1. -1. -1.]\n",
      "at\n",
      "[[ 1.  1.  1.]\n",
      " [ 0.  0.  0.]\n",
      " [-1. -1. -1.]]\n",
      "=========================================================\n",
      "Iteration:  2\n",
      "a^t:\n",
      "[[ 1.  1.  1.]\n",
      " [ 0.  0.  0.]\n",
      " [-1. -1. -1.]]\n",
      "Calculation of g values..........\n",
      "a^t is: [1. 1. 1.]\n",
      "Index is: 1\n",
      "Aug matrix is: [1. 2. 0.]\n",
      "Calculation of g values..........\n",
      "a^t is: [0. 0. 0.]\n",
      "Index is: 1\n",
      "Aug matrix is: [1. 2. 0.]\n",
      "Calculation of g values..........\n",
      "a^t is: [-1. -1. -1.]\n",
      "Index is: 1\n",
      "Aug matrix is: [1. 2. 0.]\n",
      "g1 | g2 | g3\n",
      "[ 3.  0. -3.]\n",
      "Winner class =  1 , and actual class is: 1\n",
      "No update is performed!\n",
      "N counter value =  1\n",
      "at\n",
      "[[ 1.  1.  1.]\n",
      " [ 0.  0.  0.]\n",
      " [-1. -1. -1.]]\n",
      "=========================================================\n",
      "Iteration:  3\n",
      "a^t:\n",
      "[[ 1.  1.  1.]\n",
      " [ 0.  0.  0.]\n",
      " [-1. -1. -1.]]\n",
      "Calculation of g values..........\n",
      "a^t is: [1. 1. 1.]\n",
      "Index is: 2\n",
      "Aug matrix is: [1. 0. 2.]\n",
      "Calculation of g values..........\n",
      "a^t is: [0. 0. 0.]\n",
      "Index is: 2\n",
      "Aug matrix is: [1. 0. 2.]\n",
      "Calculation of g values..........\n",
      "a^t is: [-1. -1. -1.]\n",
      "Index is: 2\n",
      "Aug matrix is: [1. 0. 2.]\n",
      "g1 | g2 | g3\n",
      "[ 3.  0. -3.]\n",
      "Winner class =  1 , and actual class is: 2\n",
      "New loser value: [1. 0. 2.]\n",
      "New winner value: [ 0.  1. -1.]\n",
      "at\n",
      "[[ 0.  1. -1.]\n",
      " [ 1.  0.  2.]\n",
      " [-1. -1. -1.]]\n",
      "=========================================================\n",
      "Iteration:  4\n",
      "a^t:\n",
      "[[ 0.  1. -1.]\n",
      " [ 1.  0.  2.]\n",
      " [-1. -1. -1.]]\n",
      "Calculation of g values..........\n",
      "a^t is: [ 0.  1. -1.]\n",
      "Index is: 3\n",
      "Aug matrix is: [ 1. -1.  1.]\n",
      "Calculation of g values..........\n",
      "a^t is: [1. 0. 2.]\n",
      "Index is: 3\n",
      "Aug matrix is: [ 1. -1.  1.]\n",
      "Calculation of g values..........\n",
      "a^t is: [-1. -1. -1.]\n",
      "Index is: 3\n",
      "Aug matrix is: [ 1. -1.  1.]\n",
      "g1 | g2 | g3\n",
      "[-2.  3. -1.]\n",
      "Winner class =  2 , and actual class is: 2\n",
      "No update is performed!\n",
      "N counter value =  1\n",
      "at\n",
      "[[ 0.  1. -1.]\n",
      " [ 1.  0.  2.]\n",
      " [-1. -1. -1.]]\n",
      "=========================================================\n",
      "Iteration:  5\n",
      "a^t:\n",
      "[[ 0.  1. -1.]\n",
      " [ 1.  0.  2.]\n",
      " [-1. -1. -1.]]\n",
      "Calculation of g values..........\n",
      "a^t is: [ 0.  1. -1.]\n",
      "Index is: 4\n",
      "Aug matrix is: [ 1. -1. -1.]\n",
      "Calculation of g values..........\n",
      "a^t is: [1. 0. 2.]\n",
      "Index is: 4\n",
      "Aug matrix is: [ 1. -1. -1.]\n",
      "Calculation of g values..........\n",
      "a^t is: [-1. -1. -1.]\n",
      "Index is: 4\n",
      "Aug matrix is: [ 1. -1. -1.]\n",
      "g1 | g2 | g3\n",
      "[ 0. -1.  1.]\n",
      "Winner class =  3 , and actual class is: 3\n",
      "No update is performed!\n",
      "N counter value =  2\n",
      "at\n",
      "[[ 0.  1. -1.]\n",
      " [ 1.  0.  2.]\n",
      " [-1. -1. -1.]]\n",
      "=========================================================\n",
      "Iteration:  6\n",
      "a^t:\n",
      "[[ 0.  1. -1.]\n",
      " [ 1.  0.  2.]\n",
      " [-1. -1. -1.]]\n",
      "Calculation of g values..........\n",
      "a^t is: [ 0.  1. -1.]\n",
      "Index is: 0\n",
      "Aug matrix is: [1. 1. 1.]\n",
      "Calculation of g values..........\n",
      "a^t is: [1. 0. 2.]\n",
      "Index is: 0\n",
      "Aug matrix is: [1. 1. 1.]\n",
      "Calculation of g values..........\n",
      "a^t is: [-1. -1. -1.]\n",
      "Index is: 0\n",
      "Aug matrix is: [1. 1. 1.]\n",
      "g1 | g2 | g3\n",
      "[ 0.  3. -3.]\n",
      "Winner class =  2 , and actual class is: 1\n",
      "New loser value: [1. 2. 0.]\n",
      "New winner value: [ 0. -1.  1.]\n",
      "at\n",
      "[[ 1.  2.  0.]\n",
      " [ 0. -1.  1.]\n",
      " [-1. -1. -1.]]\n",
      "=========================================================\n",
      "Iteration:  7\n",
      "a^t:\n",
      "[[ 1.  2.  0.]\n",
      " [ 0. -1.  1.]\n",
      " [-1. -1. -1.]]\n",
      "Calculation of g values..........\n",
      "a^t is: [1. 2. 0.]\n",
      "Index is: 1\n",
      "Aug matrix is: [1. 2. 0.]\n",
      "Calculation of g values..........\n",
      "a^t is: [ 0. -1.  1.]\n",
      "Index is: 1\n",
      "Aug matrix is: [1. 2. 0.]\n",
      "Calculation of g values..........\n",
      "a^t is: [-1. -1. -1.]\n",
      "Index is: 1\n",
      "Aug matrix is: [1. 2. 0.]\n",
      "g1 | g2 | g3\n",
      "[ 5. -2. -3.]\n",
      "Winner class =  1 , and actual class is: 1\n",
      "No update is performed!\n",
      "N counter value =  1\n",
      "at\n",
      "[[ 1.  2.  0.]\n",
      " [ 0. -1.  1.]\n",
      " [-1. -1. -1.]]\n",
      "=========================================================\n",
      "Iteration:  8\n",
      "a^t:\n",
      "[[ 1.  2.  0.]\n",
      " [ 0. -1.  1.]\n",
      " [-1. -1. -1.]]\n",
      "Calculation of g values..........\n",
      "a^t is: [1. 2. 0.]\n",
      "Index is: 2\n",
      "Aug matrix is: [1. 0. 2.]\n",
      "Calculation of g values..........\n",
      "a^t is: [ 0. -1.  1.]\n",
      "Index is: 2\n",
      "Aug matrix is: [1. 0. 2.]\n",
      "Calculation of g values..........\n",
      "a^t is: [-1. -1. -1.]\n",
      "Index is: 2\n",
      "Aug matrix is: [1. 0. 2.]\n",
      "g1 | g2 | g3\n",
      "[ 1.  2. -3.]\n",
      "Winner class =  2 , and actual class is: 2\n",
      "No update is performed!\n",
      "N counter value =  2\n",
      "at\n",
      "[[ 1.  2.  0.]\n",
      " [ 0. -1.  1.]\n",
      " [-1. -1. -1.]]\n",
      "=========================================================\n",
      "Iteration:  9\n",
      "a^t:\n",
      "[[ 1.  2.  0.]\n",
      " [ 0. -1.  1.]\n",
      " [-1. -1. -1.]]\n",
      "Calculation of g values..........\n",
      "a^t is: [1. 2. 0.]\n",
      "Index is: 3\n",
      "Aug matrix is: [ 1. -1.  1.]\n",
      "Calculation of g values..........\n",
      "a^t is: [ 0. -1.  1.]\n",
      "Index is: 3\n",
      "Aug matrix is: [ 1. -1.  1.]\n",
      "Calculation of g values..........\n",
      "a^t is: [-1. -1. -1.]\n",
      "Index is: 3\n",
      "Aug matrix is: [ 1. -1.  1.]\n",
      "g1 | g2 | g3\n",
      "[-1.  2. -1.]\n",
      "Number repeated!\n",
      "Winner class =  2 , and actual class is: 2\n",
      "No update is performed!\n",
      "N counter value =  3\n",
      "at\n",
      "[[ 1.  2.  0.]\n",
      " [ 0. -1.  1.]\n",
      " [-1. -1. -1.]]\n",
      "=========================================================\n",
      "Iteration:  10\n",
      "a^t:\n",
      "[[ 1.  2.  0.]\n",
      " [ 0. -1.  1.]\n",
      " [-1. -1. -1.]]\n",
      "Calculation of g values..........\n",
      "a^t is: [1. 2. 0.]\n",
      "Index is: 4\n",
      "Aug matrix is: [ 1. -1. -1.]\n",
      "Calculation of g values..........\n",
      "a^t is: [ 0. -1.  1.]\n",
      "Index is: 4\n",
      "Aug matrix is: [ 1. -1. -1.]\n",
      "Calculation of g values..........\n",
      "a^t is: [-1. -1. -1.]\n",
      "Index is: 4\n",
      "Aug matrix is: [ 1. -1. -1.]\n",
      "g1 | g2 | g3\n",
      "[-1.  0.  1.]\n",
      "Winner class =  3 , and actual class is: 3\n",
      "No update is performed!\n",
      "N counter value =  4\n",
      "at\n",
      "[[ 1.  2.  0.]\n",
      " [ 0. -1.  1.]\n",
      " [-1. -1. -1.]]\n",
      "=========================================================\n",
      "Iteration:  11\n",
      "a^t:\n",
      "[[ 1.  2.  0.]\n",
      " [ 0. -1.  1.]\n",
      " [-1. -1. -1.]]\n",
      "Calculation of g values..........\n",
      "a^t is: [1. 2. 0.]\n",
      "Index is: 0\n",
      "Aug matrix is: [1. 1. 1.]\n",
      "Calculation of g values..........\n",
      "a^t is: [ 0. -1.  1.]\n",
      "Index is: 0\n",
      "Aug matrix is: [1. 1. 1.]\n",
      "Calculation of g values..........\n",
      "a^t is: [-1. -1. -1.]\n",
      "Index is: 0\n",
      "Aug matrix is: [1. 1. 1.]\n",
      "g1 | g2 | g3\n",
      "[ 3.  0. -3.]\n",
      "Winner class =  1 , and actual class is: 1\n",
      "No update is performed!\n",
      "Value of N =  5\n",
      "Value of N_counter =  5\n",
      "Learning has converged, so stopping...\n",
      "Final values of a^t after update....\n",
      "at\n",
      "[[ 1.  2.  0.]\n",
      " [ 0. -1.  1.]\n",
      " [-1. -1. -1.]]\n"
     ]
    }
   ],
   "source": [
    "X_train, y_train, a, lr = SequentialMultiClassPerceptronLearning.setParams()\n",
    "SequentialMultiClassPerceptronLearning.fit(X_train, y_train, a, lr)"
   ]
  },
  {
   "cell_type": "code",
   "execution_count": null,
   "metadata": {},
   "outputs": [],
   "source": [
    "\n",
    "    # Set input variables for the sequential_multiclass_perceptron_learning function\n",
    "    N = 5  # N refers to the number of exemplars in the input dataset\n",
    "    eta = 1\n",
    "    # Input matrix from the question\n",
    "    augmented_matrix = np.array(\n",
    "        [[1, 1, 1, 1, 1], [1, 2, 0, -1, -1], [1, 0, 2, 1, -1]])\n",
    "    omega = np.array([1, 1, 2, 2, 3])  # Class labels from the question\n",
    "    number_of_classes = 3\n",
    "    number_of_features = 3\n",
    "\n",
    "    # Call function\n",
    "    SequentialMultiClassPerceptronLearning.fit(\n",
    "        N, augmented_matrix, eta, omega, number_of_classes, number_of_features)"
   ]
  },
  {
   "cell_type": "markdown",
   "metadata": {
    "heading_collapsed": true,
    "hidden": true
   },
   "source": [
    "### Moore-Penrose Pseudoinverse"
   ]
  },
  {
   "cell_type": "markdown",
   "metadata": {
    "heading_collapsed": true,
    "hidden": true
   },
   "source": [
    "#### Code"
   ]
  },
  {
   "cell_type": "code",
   "execution_count": null,
   "metadata": {
    "hidden": true
   },
   "outputs": [],
   "source": [
    "class Pseudoinverse:\n",
    "    def fit(X, Y, b):\n",
    "        # ------------------------------------------------------------------------------------\n",
    "        # Applying Sample Normalisation:\n",
    "        Norm_Y = []\n",
    "\n",
    "        for x, y in zip(X, Y):\n",
    "\n",
    "            # If the sample belongs to the class with label 2 or -1 (Check dataset in question to see how formatted):\n",
    "            if y == -1 or y == 2:\n",
    "                x = [i * -1 for i in x]\n",
    "                x.insert(0, -1)\n",
    "                Norm_Y.append(x)\n",
    "            else:\n",
    "                x.insert(0, 1)\n",
    "                Norm_Y.append(x)\n",
    "\n",
    "        print(\"Vectors used in Pseudoinverse operation to calculate parameters of linear discriminant function:\\n {}\\n\".format(Norm_Y))\n",
    "\n",
    "        # ------------------------------------------------------------------------------------\n",
    "        # Initialising Y Matrix:\n",
    "        Y_matrix = []\n",
    "\n",
    "        # Adding each normalised sample in dataset to Y Matrix:\n",
    "        for i in range(len(Norm_Y)):\n",
    "            Y_matrix.append(Norm_Y[i])\n",
    "        Y_matrix = np.array(Y_matrix)\n",
    "        print(\"y Matrix being used:\\n {}\\n\".format(Y_matrix))\n",
    "\n",
    "        # Calculating pseudo-inverse of Y Matrix:\n",
    "        pseudo_inv_matrix = np.linalg.pinv(Y_matrix)\n",
    "        print(\"Pseudo-inverse Matrix is:\\n {}\\n\".format(pseudo_inv_matrix))\n",
    "\n",
    "        # Multiplying Pseudo-inverse matrix by given margin vector in question:\n",
    "        a = np.matmul(pseudo_inv_matrix, b)\n",
    "        print(\"a is equal to:\\n {}\\n\".format(a))\n",
    "\n",
    "        correct_classification = 0\n",
    "\n",
    "        # Checking if classifications are correct:\n",
    "\n",
    "        for sample in Norm_Y:\n",
    "            ay = np.dot(sample, a)\n",
    "            print(\"\\ng(x) for sample {} is {}\".format(sample, ay))\n",
    "\n",
    "            # Sample is correctly classified if ay is positive:    \n",
    "            if ay > 0:\n",
    "                print(\"Sample has been correctly classified.\")\n",
    "                correct_classification += 1\n",
    "\n",
    "        if correct_classification == len(Norm_Y):\n",
    "            print(\"\\nAll samples are classified correctly which means that discriminant function parameters are correct.\")\n",
    "\n",
    "        else:\n",
    "            print(\"\\nSome samples are misclassified.\")\n",
    "        \n",
    "    def setParams():\n",
    "        X_train = transformToList(input(\"Enter features eg [[0, 2], [1, 2], [2, 1], [-3, 1], [-2, -1], [-3, -2]] 2D:  \"))\n",
    "        y_train = transformToList(input(\"Enter labels eg [1, 1, 1, -1, -1, -1] 1D:  \"))\n",
    "        b = transformToList(input(\"Enter b eg [1, 1, 1, 1, 1, 1] 1D:  \"))\n",
    "        return X_train, y_train, b"
   ]
  },
  {
   "cell_type": "markdown",
   "metadata": {
    "heading_collapsed": true,
    "hidden": true
   },
   "source": [
    "#### Run"
   ]
  },
  {
   "cell_type": "code",
   "execution_count": null,
   "metadata": {
    "hidden": true
   },
   "outputs": [],
   "source": [
    "X_train, y_train, b = Pseudoinverse.setParams()\n",
    "Pseudoinverse.fit(X_train, y_train, b)"
   ]
  },
  {
   "cell_type": "markdown",
   "metadata": {
    "heading_collapsed": true,
    "hidden": true
   },
   "source": [
    "### Sequential Widrow Hoff Learning"
   ]
  },
  {
   "cell_type": "markdown",
   "metadata": {
    "heading_collapsed": true,
    "hidden": true
   },
   "source": [
    "#### Code"
   ]
  },
  {
   "cell_type": "code",
   "execution_count": null,
   "metadata": {
    "hidden": true
   },
   "outputs": [],
   "source": [
    "class SequentialWidrowHoff:\n",
    "    def fit(X, Y, a, b, n, iterations):\n",
    "        # ------------------------------------------------------------------------------------\n",
    "        # Applying Sample Normalisation:\n",
    "        Norm_Y = []\n",
    "\n",
    "        for x, y in zip(X, Y):\n",
    "\n",
    "            # If the sample belongs to the class with label 2 or -1 (Check dataset in question to see how formatted):\n",
    "            if y == -1 or y == 2:\n",
    "                x = [i * -1 for i in x]\n",
    "                x.insert(0, y)\n",
    "                Norm_Y.append(x)\n",
    "            else:\n",
    "                x.insert(0, y)\n",
    "                Norm_Y.append(x)\n",
    "\n",
    "        print(\"Vectors used in Sequential Widrow-Hoff Learning Algorithm:\\n {}\\n\".format(Norm_Y))\n",
    "\n",
    "\n",
    "        # ------------------------------------------------------------------------------------\n",
    "        # Sequential Widrow-Hoff Learning Algorithm\n",
    "\n",
    "        # Epoch for-loop:\n",
    "        for o in range(int(iterations / len(Norm_Y))):\n",
    "\n",
    "            # This for-loop goes through each sample one-by-one:\n",
    "            for i in range(len(Norm_Y)):\n",
    "\n",
    "                # Value of a to use. If first iteration, then uses parameters given in question:\n",
    "\n",
    "                a_prev = a\n",
    "\n",
    "                # Which sample to use:\n",
    "                y_input = Norm_Y[i]\n",
    "                print(\"Sample used for this iteration is: {}\".format(y_input))\n",
    "\n",
    "                # Equation -> g(x) = a^{t}y\n",
    "                ay = np.dot(a, y_input)\n",
    "                print(\"g(x) = {}\".format(ay))\n",
    "\n",
    "                # Calculating the values for update:\n",
    "                update = np.zeros(len(y_input))\n",
    "                for j in range(len(y_input)): \n",
    "\n",
    "                    # Applying Update Rule of Sequential Widrow-Hoff Learning Algorithm:\n",
    "                    update[j] = n * (b[i] - ay) * y_input[j]\n",
    "\n",
    "                # Adding update to a:\n",
    "                a = np.add(a, update)\n",
    "                print(\"New Value of a^t is: {}\\n\".format(a))\n",
    "\n",
    "        print(\"Gone through all of the iterations as asked for in question.\")\n",
    "        \n",
    "    def setParams():\n",
    "        X_train = transformToList(input(\"Enter features eg [[0, 2], [1, 2], [2, 1], [-3, 1], [-2, -1], [-3, -2]] 2D:  \"))\n",
    "        y_train = transformToList(input(\"Enter labels eg [1, 1, 1, -1, -1, -1] 1D:  \"))\n",
    "        a = transformToList(input(\"Enter a. Usually [1, w1, w2...] eg [1, 0, 0] 1D:  \"))\n",
    "        b = transformToList(input(\"Enter b eg [1, 0.5, 1.5, 1.5, 1.5, 1] 1D:  \"))\n",
    "        lr = float(input(\"Enter the learning rate eg 0.1:  \"))\n",
    "        epochs = int(input(\"Enter the number of epochs eg 12:  \"))\n",
    "        return X_train, y_train, a, b, lr, epochs"
   ]
  },
  {
   "cell_type": "markdown",
   "metadata": {
    "heading_collapsed": true,
    "hidden": true
   },
   "source": [
    "#### Run"
   ]
  },
  {
   "cell_type": "code",
   "execution_count": null,
   "metadata": {
    "hidden": true
   },
   "outputs": [],
   "source": [
    "X_train, y_train, a, b, lr, epochs = SequentialWidrowHoff.setParams()\n",
    "SequentialWidrowHoff.fit(X_train, y_train, a, b, lr, epochs)"
   ]
  },
  {
   "cell_type": "markdown",
   "metadata": {
    "heading_collapsed": true
   },
   "source": [
    "## Week 3"
   ]
  },
  {
   "cell_type": "markdown",
   "metadata": {
    "heading_collapsed": true,
    "hidden": true
   },
   "source": [
    "### Neuron Output (with heavy side function)"
   ]
  },
  {
   "cell_type": "markdown",
   "metadata": {
    "heading_collapsed": true,
    "hidden": true
   },
   "source": [
    "#### Code"
   ]
  },
  {
   "cell_type": "code",
   "execution_count": null,
   "metadata": {
    "hidden": true
   },
   "outputs": [],
   "source": [
    "class NeuronOutput:\n",
    "    def fit(weight, threshold, x):\n",
    "        summation = []\n",
    "        for i in range(len(x)):\n",
    "            summation.append(weight[i] * x[i])\n",
    "\n",
    "        summation = np.sum(summation, 0) - threshold\n",
    "\n",
    "        # Find output of neuron by applying heaviside function with given threshold:\n",
    "        output = np.heaviside(summation, threshold)\n",
    "        print(\"Output of neuron with input {} is {}.\".format(x, output))\n",
    "        \n",
    "    def setParams():\n",
    "        #This script is based off of Question 2 in Tutorial 3\n",
    "        x = transformToList(input(\"Enter single sample/input eg [0.1, -0.5, 0.4] 1D:  \"))\n",
    "        weights = transformToList(input(\"Enter weigths from one layer to another eg [0.1, -5, 0.4] 1D:  \"))\n",
    "        threshold = float(input(\"Enter the threshold value eg 0:  \"))\n",
    "        return weights, threshold, x"
   ]
  },
  {
   "cell_type": "markdown",
   "metadata": {
    "heading_collapsed": true,
    "hidden": true
   },
   "source": [
    "#### Run"
   ]
  },
  {
   "cell_type": "code",
   "execution_count": null,
   "metadata": {
    "hidden": true
   },
   "outputs": [],
   "source": [
    "weights, threshold, x = NeuronOutput.setParams()\n",
    "NeuronOutput.fit(weights, threshold, x)"
   ]
  },
  {
   "cell_type": "markdown",
   "metadata": {
    "heading_collapsed": true,
    "hidden": true
   },
   "source": [
    "### Batch and Sequential Delta Learning"
   ]
  },
  {
   "cell_type": "markdown",
   "metadata": {
    "heading_collapsed": true,
    "hidden": true
   },
   "source": [
    "#### Code"
   ]
  },
  {
   "cell_type": "code",
   "execution_count": null,
   "metadata": {
    "hidden": true
   },
   "outputs": [],
   "source": [
    "class DeltaLearningModel:\n",
    "    def __init__(self):\n",
    "        self.w = None\n",
    "\n",
    "    def fit(self, features, target, weights, threshold, lr, epochs, type = \"S\", display=True):\n",
    "        x = Utility.augmentArray(features.astype(np.float), 1)\n",
    "        self.w = Utility.augmentArray(weights.astype(np.float), -threshold)\n",
    "        t = target.astype(np.float)\n",
    "        print(\"Score Before Training : \", round(self.score(features, target)*100, 1), \"%\")\n",
    "        \n",
    "        count = 0\n",
    "        for e in range(0,epochs):\n",
    "            error=0\n",
    "            if count>=epochs: break;\n",
    "            for i in range(0,len(x)):\n",
    "                y = Activation.stepFunction(x[i].dot(self.w))\n",
    "                error += (t[i]-y)*x[i]\n",
    "                \n",
    "                if type.upper()==\"S\":\n",
    "                    self.w = self.w+lr*error\n",
    "                    if display:\n",
    "                        count+=1\n",
    "                        print(count, \"\\t H(wx) = \", round(y,4), \"\\t delta w or n(t-y)x = \", np.round(lr*error,4), \"\\t w = \", np.round(self.w,4))\n",
    "                    error=0\n",
    "            if type.upper()==\"B\":\n",
    "                count+=1\n",
    "                self.w = self.w+lr*error\n",
    "                if display:\n",
    "                    print(count, \"\\t Weight change = \", np.round(error,4), \"\\t w = \", np.round(self.w,4))\n",
    "                \n",
    "                \n",
    "        \n",
    "        print(\"Score After Training : \", round(self.score(features, target)*100, 1), \"%\")\n",
    "        print(\"Final Weights (w) = \", self.w)\n",
    "        \n",
    "    def predict(self, X_values):\n",
    "        x = Utility.augmentArray(X_values.astype(np.float), 1)\n",
    "        myfunc = lambda t: Activation.stepFunction(t.dot(self.w))\n",
    "        return np.apply_along_axis(myfunc, 1, x)\n",
    "    \n",
    "    def score(self, X_test, y_target):\n",
    "        y_test = self.predict(X_test)\n",
    "        return np.sum(y_test == y_target)/len(y_target)\n",
    "    \n",
    "    def setParams(self):\n",
    "        batchOrSeq = str(input(\"'s' for sequential or 'b' for batch.  \"))\n",
    "        X_train = np.array(transformToList(input(\"Enter features eg [[0, 0], [0, 1], [1, 0], [1, 1]] 2D:  \"))).astype(np.float)\n",
    "        y_train = np.array(transformToList(input(\"Enter labels eg [0, 0, 0, 1] 1D:  \"))).astype(np.float)\n",
    "        initWeights = np.array(transformToList(input(\"Enter weights [w1, w2, ..., wd] eg [1, 1] 1D:  \"))).astype(np.float)\n",
    "        threshold = float(input(\"Enter the threshold value eg -0.5.  \"))\n",
    "        learningRate = float(input(\"Enter the learning rate eg 1.  \"))\n",
    "        epochs = int(input(\"Enter the number of epochs eg 4.  \"))\n",
    "        return X_train, y_train, initWeights, threshold, learningRate, epochs, batchOrSeq\n",
    "    \n",
    "    def newPred(self):\n",
    "        ispredict = str(input(\"\\nDo you want to predict using trained model? y/n.  \"))\n",
    "        while ispredict.upper()==\"Y\":\n",
    "            x_pred = np.array(transformToList(input(\"Enter features eg [[0, 0], [0, 1], [1, 0], [1, 1]] 2D:  \")))\n",
    "            print(\"Predicted values: \", self.predict(x_pred))\n",
    "            ispredict = str(input(\"\\nDo you want to predict using trained model? y/n.  \"))"
   ]
  },
  {
   "cell_type": "markdown",
   "metadata": {
    "heading_collapsed": true,
    "hidden": true
   },
   "source": [
    "#### Run"
   ]
  },
  {
   "cell_type": "code",
   "execution_count": null,
   "metadata": {
    "hidden": true
   },
   "outputs": [],
   "source": [
    "model = DeltaLearningModel()\n",
    "X_train, y_train, initWeights, threshold, learningRate, epochs, batchOrSeq = model.setParams()\n",
    "model.fit(X_train, y_train, initWeights, threshold, learningRate, epochs, batchOrSeq)\n",
    "model.newPred()"
   ]
  },
  {
   "cell_type": "markdown",
   "metadata": {
    "heading_collapsed": true,
    "hidden": true
   },
   "source": [
    "### Softmax (For Competitive Learning Networks)"
   ]
  },
  {
   "cell_type": "markdown",
   "metadata": {
    "heading_collapsed": true,
    "hidden": true
   },
   "source": [
    "#### Code"
   ]
  },
  {
   "cell_type": "code",
   "execution_count": null,
   "metadata": {
    "hidden": true
   },
   "outputs": [],
   "source": [
    "class Softmax:\n",
    "    def fit(x, b=1):\n",
    "        print(\"\\nSoftmax of array: \", x, \"\\n\")\n",
    "        print(np.exp(x*b) / np.sum(np.exp(x*b), axis=0))\n",
    "    \n",
    "    def setParams():\n",
    "        a = np.array(transformToList(input(\"Enter array eg [0.34, 0.73, -0.61] 1D:  \"))).astype(np.float)\n",
    "        beta = float(input(\"Enter Beta value (1 if not specified).  \"))\n",
    "        return a, beta"
   ]
  },
  {
   "cell_type": "markdown",
   "metadata": {
    "heading_collapsed": true,
    "hidden": true
   },
   "source": [
    "#### Run\n"
   ]
  },
  {
   "cell_type": "code",
   "execution_count": null,
   "metadata": {
    "hidden": true
   },
   "outputs": [],
   "source": [
    "a, beta = Softmax.setParams()\n",
    "Softmax.fit(a, beta)"
   ]
  },
  {
   "cell_type": "markdown",
   "metadata": {
    "heading_collapsed": true,
    "hidden": true
   },
   "source": [
    "### Negative Feedback Networks"
   ]
  },
  {
   "cell_type": "markdown",
   "metadata": {
    "heading_collapsed": true,
    "hidden": true
   },
   "source": [
    "#### Code"
   ]
  },
  {
   "cell_type": "code",
   "execution_count": null,
   "metadata": {
    "hidden": true
   },
   "outputs": [],
   "source": [
    "class NegativeFeddbackNetwork:\n",
    "    def fit(weights, iterations, x, alpha, activations):\n",
    "        prev_activations = activations\n",
    "        iteration = 1\n",
    "\n",
    "        for i in range(iterations):\n",
    "\n",
    "            print(\"Iteration {}\".format(iteration))\n",
    "\n",
    "            # Following block deals with calculating first equation: e = x - W^{T}y\n",
    "            wT = np.array(weights).T\n",
    "            wTy = np.dot(wT, activations)\n",
    "            print(\"value of wTy {}\".format(wTy))\n",
    "\n",
    "            eT = x - wTy\n",
    "            print(\"eT: {}\".format(eT))\n",
    "            e = np.array(eT).reshape((3, 1))\n",
    "\n",
    "            # The following lines deal with calculating the update: y <- y + \\alpha*W*e\n",
    "            We = np.dot(weights, e)\n",
    "            We = [j for i in We for j in i]\n",
    "            print(\"We: {} \".format(We))\n",
    "\n",
    "            alphaWe = np.dot(alpha, We)\n",
    "\n",
    "            # Doing the actual update using the second equation:\n",
    "            y = activations + alphaWe\n",
    "            print(\"Value of y: {}\\n\".format(y))\n",
    "\n",
    "            activations = y\n",
    "\n",
    "            iteration += 1\n",
    "\n",
    "        print(\"\\nAfter {} iterations, the activation of the output neurons is equal to {}\".format(iterations, activations))\n",
    "        \n",
    "    def setParams():\n",
    "        print(\"This script is based off of Question 7 in Tutorial 3\")\n",
    "        x = transformToList(input(\"Enter single sample/input eg [1, 1, 0] 1D:  \"))\n",
    "        weights = transformToList(input(\"Enter weigths from one layer to another eg [[1, 1, 0], [1, 1, 1]] 2D:  \"))\n",
    "        activation = transformToList(input(\"Enter output layer initial activation eg [0, 0] 1D:  \"))\n",
    "        lr = float(input(\"Enter the learning rate/alpha eg 0.25.  \"))\n",
    "        epochs = int(input(\"Enter the number of epochs eg 5.  \"))\n",
    "        return weights, epochs, x, lr, activation"
   ]
  },
  {
   "cell_type": "markdown",
   "metadata": {
    "heading_collapsed": true,
    "hidden": true
   },
   "source": [
    "#### Run"
   ]
  },
  {
   "cell_type": "code",
   "execution_count": null,
   "metadata": {
    "hidden": true
   },
   "outputs": [],
   "source": [
    "weights, epochs, x, lr, activation = NegativeFeddbackNetwork.setParams()\n",
    "NegativeFeddbackNetwork.fit(weights, epochs, x, lr, activation)"
   ]
  },
  {
   "cell_type": "markdown",
   "metadata": {},
   "source": [
    "## Week 4"
   ]
  },
  {
   "cell_type": "code",
   "execution_count": null,
   "metadata": {},
   "outputs": [],
   "source": []
  },
  {
   "cell_type": "code",
   "execution_count": null,
   "metadata": {},
   "outputs": [],
   "source": []
  },
  {
   "cell_type": "code",
   "execution_count": null,
   "metadata": {},
   "outputs": [],
   "source": []
  },
  {
   "cell_type": "markdown",
   "metadata": {},
   "source": [
    "## Week 5"
   ]
  },
  {
   "cell_type": "markdown",
   "metadata": {
    "heading_collapsed": true
   },
   "source": [
    "### Activation Function Operations"
   ]
  },
  {
   "cell_type": "markdown",
   "metadata": {
    "heading_collapsed": true,
    "hidden": true
   },
   "source": [
    "#### Code"
   ]
  },
  {
   "cell_type": "code",
   "execution_count": null,
   "metadata": {
    "hidden": true
   },
   "outputs": [],
   "source": [
    "class ActivationFunctionOperations:\n",
    "    '''\n",
    "    Based on Question 4 in Tutorial 5:\n",
    "    The following array show the output produced by a mask in a convolutional layer of a CNN.\n",
    "              [[1, 0.5, 0.2], \n",
    "     net_j =  [-1, -0.5, -0.2], \n",
    "              [0.1, -0.1, 0]]\n",
    "    Calculate the values produced by the application of the following activation functions:\n",
    "    '''\n",
    "\n",
    "    def fit(net_j, activation_function, a = 0.1, threshold = 0.1, heaviside_0 = 0.5):\n",
    "\n",
    "        new_array = []\n",
    "\n",
    "        if activation_function == 'ReLU':\n",
    "\n",
    "            for row in net_j:\n",
    "                temp_array = []\n",
    "                for i in row:\n",
    "\n",
    "                    # threshold:\n",
    "                    if i >= 0:\n",
    "                        temp_array.append(i)\n",
    "                    else:\n",
    "                        temp_array.append(0)\n",
    "                new_array.append(temp_array)\n",
    "\n",
    "            print(activation_function, \":  \", new_array)\n",
    "\n",
    "        elif activation_function == 'LReLU':\n",
    "\n",
    "            for row in net_j:\n",
    "                temp_array = []\n",
    "                for i in row:\n",
    "\n",
    "                    # threshold:\n",
    "                    if i >= 0:\n",
    "                        temp_array.append(i)\n",
    "                    else:\n",
    "                        temp_array.append(round(a * i, 2))\n",
    "                new_array.append(temp_array)\n",
    "\n",
    "            print(activation_function, \":  \", new_array)\n",
    "\n",
    "        elif activation_function == 'tanh':\n",
    "\n",
    "            for row in net_j:\n",
    "                temp_array = []\n",
    "                for i in row:\n",
    "\n",
    "                    # Using equation of tanh activation function:\n",
    "                    temp_array.append(round((math.e**i - math.e ** -i) / (math.e**i + math.e ** -i), 5)) \n",
    "                new_array.append(temp_array)\n",
    "\n",
    "            print(activation_function, \":  \", new_array)\n",
    "\n",
    "        elif activation_function == 'heaviside':\n",
    "\n",
    "            for row in net_j:\n",
    "                temp_array = []\n",
    "                for i in row:\n",
    "\n",
    "                    # subtracts threshold away from each value:\n",
    "                    i = i - threshold\n",
    "\n",
    "                    # applies heaviside function to value:\n",
    "                    temp_array.append(np.heaviside(i, heaviside_0))\n",
    "\n",
    "                new_array.append(temp_array)\n",
    "\n",
    "            print(activation_function, \":  \", new_array)\n",
    "            \n",
    "    def setParams():\n",
    "        \n",
    "        activation_function = \"ReLU\"\n",
    "        a = 0.1\n",
    "        threshold = 0.1\n",
    "        heaviside_0 = 0.5\n",
    "        \n",
    "        net_j = transformToList(input(\"Enter matrix to perform activation on eg [[1, 0.5, 0.2], [-1, -0.5, -0.2], [0.1, -0.1, 0]] 2D:  \"))\n",
    "        typeActivation = str(input(\"'ReLU', 'LReLU', 'tanh' or 'heaviside' \"))\n",
    "        if typeActivation.upper()==\"RELU\":\n",
    "            activation_function = \"ReLU\"\n",
    "        elif typeActivation.upper()==\"LRELU\":\n",
    "            activation_function = \"LReLU\"\n",
    "            a = float(input(\"Enter the a value eg 0.1.  \"))\n",
    "        elif typeActivation.lower()==\"tanh\": \n",
    "            activation_function = \"tanh\"\n",
    "        elif typeActivation.lower()==\"heaviside\": \n",
    "            activation_function = \"heaviside\"\n",
    "            threshold = float(input(\"Enter the threshold value eg 0.1.  \"))\n",
    "            heaviside_0 = float(input(\"Enter the H(0) value eg 0.5.  \"))\n",
    "        else:\n",
    "            print(\"wrong input\")\n",
    "            \n",
    "        return net_j, activation_function, a, threshold, heaviside_0"
   ]
  },
  {
   "cell_type": "markdown",
   "metadata": {
    "heading_collapsed": true,
    "hidden": true
   },
   "source": [
    "#### Run"
   ]
  },
  {
   "cell_type": "code",
   "execution_count": null,
   "metadata": {
    "hidden": true
   },
   "outputs": [],
   "source": [
    "net_j, activation_function, a, threshold, heaviside_0 = ActivationFunctionOperations.setParams()\n",
    "ActivationFunctionOperations.fit(net_j, activation_function, a, threshold, heaviside_0)"
   ]
  },
  {
   "cell_type": "markdown",
   "metadata": {},
   "source": [
    "## Week 6"
   ]
  },
  {
   "cell_type": "code",
   "execution_count": null,
   "metadata": {},
   "outputs": [],
   "source": []
  },
  {
   "cell_type": "code",
   "execution_count": null,
   "metadata": {},
   "outputs": [],
   "source": []
  },
  {
   "cell_type": "code",
   "execution_count": null,
   "metadata": {},
   "outputs": [],
   "source": []
  },
  {
   "cell_type": "markdown",
   "metadata": {},
   "source": [
    "## Week 7"
   ]
  },
  {
   "cell_type": "code",
   "execution_count": null,
   "metadata": {},
   "outputs": [],
   "source": []
  },
  {
   "cell_type": "code",
   "execution_count": null,
   "metadata": {},
   "outputs": [],
   "source": []
  },
  {
   "cell_type": "code",
   "execution_count": null,
   "metadata": {},
   "outputs": [],
   "source": []
  },
  {
   "cell_type": "markdown",
   "metadata": {},
   "source": [
    "## Week 8"
   ]
  },
  {
   "cell_type": "markdown",
   "metadata": {
    "heading_collapsed": true
   },
   "source": [
    "### SVM(to find lambda, weights and margin)"
   ]
  },
  {
   "cell_type": "markdown",
   "metadata": {
    "heading_collapsed": true,
    "hidden": true
   },
   "source": [
    "#### Code"
   ]
  },
  {
   "cell_type": "code",
   "execution_count": null,
   "metadata": {
    "hidden": true
   },
   "outputs": [],
   "source": [
    "class SVM:\n",
    "    def fit(X, y, support_vectors, support_vector_class):\n",
    "        X = np.array(X)\n",
    "        y = np.array(y)\n",
    "\n",
    "        print(\"-\"*100)\n",
    "        w = []\n",
    "        for idx in range(len(support_vectors)):\n",
    "            w.append(support_vectors[idx] * support_vector_class[idx])\n",
    "        w = np.array(w)\n",
    "        eq_arr = []\n",
    "        for idx, sv in enumerate(support_vectors):\n",
    "            tmp = ((w @ sv) * support_vector_class[idx])\n",
    "            tmp = np.append(tmp, [support_vector_class[idx]])\n",
    "            eq_arr.append(tmp)\n",
    "        eq_arr.append(np.append(support_vector_class, [0]))\n",
    "        rhs_arr = [1] * len(support_vector_class)\n",
    "        rhs_arr.extend([0])\n",
    "        rhs_arr = np.array(rhs_arr)\n",
    "        ans = rhs_arr @ np.linalg.inv(eq_arr)\n",
    "        print(\"lambda and w_0 values are \", ans)\n",
    "        final_weight = []\n",
    "        for idx in range(w.shape[0]):\n",
    "            final_weight.append(w[idx] * ans[idx])\n",
    "        final_weight = np.array(final_weight)\n",
    "        final_weight = np.sum(final_weight, axis=0)\n",
    "        print(\"Weights: \")\n",
    "        print(final_weight)\n",
    "        print(\"Margin: \")\n",
    "        print(2/np.linalg.norm(final_weight))\n",
    "        print(\"-\"*100)\n",
    "            \n",
    "    def setParams():\n",
    "        X = transformToList(input(\"Enter features eg [[3, 1], [3, -1], [7, 1], [8, 0], [1, 0], [0, 1], [-1, 0], [-2, 0]] 2D:  \"))\n",
    "        y = transformToList(input(\"Enter labels eg [1, 1, 1, 1, -1, -1, -1, -1] 1D:  \"))\n",
    "        support_vectors = np.array(transformToList(input(\"Enter features eg [[3, 1], [3, -1], [1, 0]] 2D:  \"))).astype(np.float)\n",
    "        support_vector_class = np.array(transformToList(input(\"Enter labels eg [1, 1, -1] 1D:  \"))).astype(np.float)\n",
    "            \n",
    "        return X, y, support_vectors, support_vector_class"
   ]
  },
  {
   "cell_type": "markdown",
   "metadata": {
    "heading_collapsed": true,
    "hidden": true
   },
   "source": [
    "#### Run"
   ]
  },
  {
   "cell_type": "code",
   "execution_count": null,
   "metadata": {
    "hidden": true
   },
   "outputs": [],
   "source": [
    "X, y, support_vectors, support_vector_class = SVM.setParams()\n",
    "SVM.fit(X, y, support_vectors, support_vector_class)"
   ]
  },
  {
   "cell_type": "markdown",
   "metadata": {},
   "source": [
    "## Week 9"
   ]
  },
  {
   "cell_type": "code",
   "execution_count": null,
   "metadata": {},
   "outputs": [],
   "source": []
  },
  {
   "cell_type": "code",
   "execution_count": null,
   "metadata": {},
   "outputs": [],
   "source": []
  },
  {
   "cell_type": "code",
   "execution_count": null,
   "metadata": {},
   "outputs": [],
   "source": []
  },
  {
   "cell_type": "markdown",
   "metadata": {},
   "source": [
    "## Week 10"
   ]
  },
  {
   "cell_type": "code",
   "execution_count": null,
   "metadata": {},
   "outputs": [],
   "source": []
  },
  {
   "cell_type": "code",
   "execution_count": null,
   "metadata": {},
   "outputs": [],
   "source": []
  },
  {
   "cell_type": "code",
   "execution_count": null,
   "metadata": {},
   "outputs": [],
   "source": []
  }
 ],
 "metadata": {
  "kernelspec": {
   "display_name": "Python 3",
   "language": "python",
   "name": "python3"
  },
  "language_info": {
   "codemirror_mode": {
    "name": "ipython",
    "version": 3
   },
   "file_extension": ".py",
   "mimetype": "text/x-python",
   "name": "python",
   "nbconvert_exporter": "python",
   "pygments_lexer": "ipython3",
   "version": "3.9.0"
  }
 },
 "nbformat": 4,
 "nbformat_minor": 4
}
